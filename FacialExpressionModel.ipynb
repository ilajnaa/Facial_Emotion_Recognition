{
 "cells": [
  {
   "cell_type": "markdown",
   "metadata": {},
   "source": [
    "# Import library"
   ]
  },
  {
   "cell_type": "code",
   "execution_count": 10,
   "metadata": {},
   "outputs": [],
   "source": [
    "import numpy as np  #multidimensional arrays\n",
    "import cv2   #process images and videos to identify objects, faces\n",
    "#keras provides high-level APIs used for easily building and training models\n",
    "from keras.models import Sequential # arranging the Keras layers in a sequential order\n",
    "from keras.layers import Dense, Dropout, Flatten\n",
    "from keras.layers import Conv2D\n",
    "from tensorflow.keras.optimizers import Adam\n",
    "from keras.layers import MaxPooling2D\n",
    "from keras.preprocessing.image import ImageDataGenerator\n",
    "from keras.utils.vis_utils import plot_model\n",
    "from keras.utils.vis_utils import plot_model\n",
    "import os"
   ]
  },
  {
   "cell_type": "markdown",
   "metadata": {},
   "source": [
    "For dataset :https://www.kaggle.com/msambare/fer2013?\n",
    "In dataset there are two floder like test data and train data.Both test and tarin  floder there are seven floder like that angry,digust,fear,happy,natural,sad and surprise "
   ]
  },
  {
   "cell_type": "code",
   "execution_count": 12,
   "metadata": {},
   "outputs": [
    {
     "name": "stdout",
     "output_type": "stream",
     "text": [
      "Found 28709 images belonging to 7 classes.\n",
      "Found 7178 images belonging to 7 classes.\n"
     ]
    }
   ],
   "source": [
    "train_dir = 'train'\n",
    "val_dir = 'test'\n",
    "img_size=48\n",
    "batch_size=64\n",
    "train_datagen = ImageDataGenerator(rescale=1./255) #allows you to randomly rotate images through any degree between\n",
    "#0 and 360 by providing an integer value in the rotation_range argument.\n",
    "train_generator = train_datagen.flow_from_directory(\n",
    "        train_dir,\n",
    "        target_size=(img_size,img_size),\n",
    "        batch_size=batch_size,\n",
    "        color_mode=\"grayscale\",\n",
    "        class_mode='categorical')\n",
    "val_datagen = ImageDataGenerator(rescale=1./255)\n",
    "validation_generator = val_datagen.flow_from_directory(\n",
    "        val_dir,\n",
    "        target_size=(img_size,img_size),\n",
    "        batch_size=batch_size,\n",
    "        color_mode=\"grayscale\",\n",
    "        class_mode='categorical')\n"
   ]
  },
  {
   "cell_type": "code",
   "execution_count": 13,
   "metadata": {},
   "outputs": [
    {
     "name": "stdout",
     "output_type": "stream",
     "text": [
      "3995 angry images\n",
      "436 disgust images\n",
      "4097 fear images\n",
      "7215 happy images\n",
      "4965 neutral images\n",
      "4830 sad images\n",
      "3171 surprise images\n"
     ]
    }
   ],
   "source": [
    "for i in os.listdir(\"train/\"):\n",
    "    print(str(len(os.listdir(\"train/\"+i))) +\" \"+ i +\" images\")"
   ]
  },
  {
   "cell_type": "code",
   "execution_count": 14,
   "metadata": {},
   "outputs": [
    {
     "name": "stdout",
     "output_type": "stream",
     "text": [
      "958 angry images\n",
      "111 disgust images\n",
      "1024 fear images\n",
      "1774 happy images\n",
      "1233 neutral images\n",
      "1247 sad images\n",
      "831 surprise images\n"
     ]
    }
   ],
   "source": [
    "for i in os.listdir(\"test/\"):\n",
    "    print(str(len(os.listdir(\"test/\"+i))) +\" \"+ i +\" images\")"
   ]
  },
  {
   "cell_type": "code",
   "execution_count": 15,
   "metadata": {},
   "outputs": [
    {
     "name": "stdout",
     "output_type": "stream",
     "text": [
      "('You must install pydot (`pip install pydot`) and install graphviz (see instructions at https://graphviz.gitlab.io/download/) ', 'for plot_model/model_to_dot to work.')\n",
      "Model: \"sequential\"\n",
      "_________________________________________________________________\n",
      " Layer (type)                Output Shape              Param #   \n",
      "=================================================================\n",
      " conv2d (Conv2D)             (None, 46, 46, 32)        320       \n",
      "                                                                 \n",
      " conv2d_1 (Conv2D)           (None, 44, 44, 64)        18496     \n",
      "                                                                 \n",
      " max_pooling2d (MaxPooling2D  (None, 22, 22, 64)       0         \n",
      " )                                                               \n",
      "                                                                 \n",
      " dropout (Dropout)           (None, 22, 22, 64)        0         \n",
      "                                                                 \n",
      " conv2d_2 (Conv2D)           (None, 20, 20, 128)       73856     \n",
      "                                                                 \n",
      " max_pooling2d_1 (MaxPooling  (None, 10, 10, 128)      0         \n",
      " 2D)                                                             \n",
      "                                                                 \n",
      " conv2d_3 (Conv2D)           (None, 8, 8, 128)         147584    \n",
      "                                                                 \n",
      " max_pooling2d_2 (MaxPooling  (None, 4, 4, 128)        0         \n",
      " 2D)                                                             \n",
      "                                                                 \n",
      " dropout_1 (Dropout)         (None, 4, 4, 128)         0         \n",
      "                                                                 \n",
      " flatten (Flatten)           (None, 2048)              0         \n",
      "                                                                 \n",
      " dense (Dense)               (None, 1024)              2098176   \n",
      "                                                                 \n",
      " dropout_2 (Dropout)         (None, 1024)              0         \n",
      "                                                                 \n",
      " dense_1 (Dense)             (None, 7)                 7175      \n",
      "                                                                 \n",
      "=================================================================\n",
      "Total params: 2,345,607\n",
      "Trainable params: 2,345,607\n",
      "Non-trainable params: 0\n",
      "_________________________________________________________________\n"
     ]
    }
   ],
   "source": [
    "emotion_model = Sequential()\n",
    "'''The rectified linear activation function or ReLU for short is a piecewise linear function that will output the\n",
    "input directly if it is positive, otherwise, it will output zero.'''\n",
    "emotion_model.add(Conv2D(32, kernel_size=(3, 3), activation='relu', input_shape=(48,48,1)))#output=(48-3+0)/1+1=46\n",
    "emotion_model.add(Conv2D(64, kernel_size=(3, 3), activation='relu'))#output=(46-3+0)/1+1=44\n",
    "emotion_model.add(MaxPooling2D(pool_size=(2, 2)))#output=devided input by 2 it means 22,22,64\n",
    "emotion_model.add(Dropout(0.25))#reduce 25% module at a time of output\n",
    "emotion_model.add(Conv2D(128, kernel_size=(3, 3), activation='relu',input_shape=(48,48,1)))#(22-3+0)/1+1=20\n",
    "emotion_model.add(MaxPooling2D(pool_size=(2, 2)))#10\n",
    "emotion_model.add(Conv2D(128, kernel_size=(3, 3), activation='relu'))#(10-3+0)/1+1=8\n",
    "emotion_model.add(MaxPooling2D(pool_size=(2, 2)))#output=4\n",
    "emotion_model.add(Dropout(0.25))#nothing change\n",
    "emotion_model.add(Flatten())#here we get multidimention output and pass as linear to the dense so that 4*4*128=2048\n",
    "emotion_model.add(Dense(1024, activation='relu'))#hddien of 1024 neurons of input \n",
    "emotion_model.add(Dropout(0.5))\n",
    "emotion_model.add(Dense(7, activation='softmax'))#hddien of 7 neurons of input\n",
    "plot_model(emotion_model, to_file='model_plot.png', show_shapes=True, show_layer_names=True)#save model leyer as model_plot.png\n",
    "emotion_model.summary()"
   ]
  },
  {
   "cell_type": "code",
   "execution_count": 8,
   "metadata": {},
   "outputs": [
    {
     "name": "stdout",
     "output_type": "stream",
     "text": [
      "Epoch 1/25\n",
      "448/448 [==============================] - 220s 489ms/step - loss: 1.3639 - accuracy: 0.4810 - val_loss: 1.3198 - val_accuracy: 0.4990\n",
      "Epoch 2/25\n",
      "448/448 [==============================] - 230s 513ms/step - loss: 1.3188 - accuracy: 0.4993 - val_loss: 1.2998 - val_accuracy: 0.5057\n",
      "Epoch 3/25\n",
      "448/448 [==============================] - 232s 518ms/step - loss: 1.2810 - accuracy: 0.5145 - val_loss: 1.2747 - val_accuracy: 0.5130\n",
      "Epoch 4/25\n",
      "448/448 [==============================] - 235s 525ms/step - loss: 1.2440 - accuracy: 0.5270 - val_loss: 1.2409 - val_accuracy: 0.5250\n",
      "Epoch 5/25\n",
      "448/448 [==============================] - 238s 532ms/step - loss: 1.2142 - accuracy: 0.5402 - val_loss: 1.2122 - val_accuracy: 0.5333\n",
      "Epoch 6/25\n",
      "448/448 [==============================] - 228s 510ms/step - loss: 1.1864 - accuracy: 0.5539 - val_loss: 1.1929 - val_accuracy: 0.5424\n",
      "Epoch 7/25\n",
      "448/448 [==============================] - 239s 533ms/step - loss: 1.1552 - accuracy: 0.5652 - val_loss: 1.1767 - val_accuracy: 0.5519\n",
      "Epoch 8/25\n",
      "448/448 [==============================] - 246s 549ms/step - loss: 1.1297 - accuracy: 0.5770 - val_loss: 1.1610 - val_accuracy: 0.5610\n",
      "Epoch 9/25\n",
      "448/448 [==============================] - 235s 524ms/step - loss: 1.1047 - accuracy: 0.5857 - val_loss: 1.1480 - val_accuracy: 0.5686\n",
      "Epoch 10/25\n",
      "448/448 [==============================] - 246s 550ms/step - loss: 1.0766 - accuracy: 0.5994 - val_loss: 1.1392 - val_accuracy: 0.5702\n",
      "Epoch 11/25\n",
      "448/448 [==============================] - 247s 551ms/step - loss: 1.0604 - accuracy: 0.6046 - val_loss: 1.1317 - val_accuracy: 0.5721\n",
      "Epoch 12/25\n",
      "448/448 [==============================] - 244s 546ms/step - loss: 1.0326 - accuracy: 0.6189 - val_loss: 1.1205 - val_accuracy: 0.5798\n",
      "Epoch 13/25\n",
      "448/448 [==============================] - 247s 550ms/step - loss: 1.0139 - accuracy: 0.6237 - val_loss: 1.1230 - val_accuracy: 0.5758\n",
      "Epoch 14/25\n",
      "448/448 [==============================] - 245s 547ms/step - loss: 0.9885 - accuracy: 0.6318 - val_loss: 1.1073 - val_accuracy: 0.5838\n",
      "Epoch 15/25\n",
      "448/448 [==============================] - 248s 555ms/step - loss: 0.9678 - accuracy: 0.6434 - val_loss: 1.1004 - val_accuracy: 0.5912\n",
      "Epoch 16/25\n",
      "448/448 [==============================] - 247s 552ms/step - loss: 0.9473 - accuracy: 0.6488 - val_loss: 1.0912 - val_accuracy: 0.5931\n",
      "Epoch 17/25\n",
      "448/448 [==============================] - 232s 518ms/step - loss: 0.9252 - accuracy: 0.6608 - val_loss: 1.0905 - val_accuracy: 0.5953\n",
      "Epoch 18/25\n",
      "448/448 [==============================] - 219s 489ms/step - loss: 0.8996 - accuracy: 0.6683 - val_loss: 1.0832 - val_accuracy: 0.6000\n",
      "Epoch 19/25\n",
      "448/448 [==============================] - 220s 490ms/step - loss: 0.8743 - accuracy: 0.6774 - val_loss: 1.0790 - val_accuracy: 0.6020\n",
      "Epoch 20/25\n",
      "448/448 [==============================] - 219s 489ms/step - loss: 0.8512 - accuracy: 0.6855 - val_loss: 1.0803 - val_accuracy: 0.6095\n",
      "Epoch 21/25\n",
      "448/448 [==============================] - 221s 492ms/step - loss: 0.8261 - accuracy: 0.6974 - val_loss: 1.0808 - val_accuracy: 0.6062\n",
      "Epoch 22/25\n",
      "448/448 [==============================] - 216s 481ms/step - loss: 0.8088 - accuracy: 0.7046 - val_loss: 1.0828 - val_accuracy: 0.6044\n",
      "Epoch 23/25\n",
      "448/448 [==============================] - 216s 481ms/step - loss: 0.7865 - accuracy: 0.7131 - val_loss: 1.0844 - val_accuracy: 0.6055\n",
      "Epoch 24/25\n",
      "448/448 [==============================] - 216s 482ms/step - loss: 0.7614 - accuracy: 0.7227 - val_loss: 1.0792 - val_accuracy: 0.6136\n"
     ]
    }
   ],
   "source": [
    "from keras import callbacks\n",
    "emotion_model.compile(loss='categorical_crossentropy',optimizer=Adam(lr=0.0001, decay=1e-6),metrics=['accuracy'])\n",
    "\n",
    "earlystopping = callbacks.EarlyStopping(monitor =\"val_loss\", \n",
    "                                        mode =\"min\", patience = 5, \n",
    "                                        restore_best_weights = True)\n",
    "  \n",
    "emotion_model_info = emotion_model.fit(\n",
    "        train_generator,\n",
    "        steps_per_epoch=28709 // 64,\n",
    "        epochs=25,\n",
    "        validation_data=validation_generator,\n",
    "        validation_steps=7178 // 64,\n",
    "        callbacks =[earlystopping]) # find optimal no. of epochs"
   ]
  },
  {
   "cell_type": "markdown",
   "metadata": {},
   "source": [
    "# Saving a model using save_weights"
   ]
  },
  {
   "cell_type": "code",
   "execution_count": 9,
   "metadata": {},
   "outputs": [],
   "source": [
    "emotion_model.save_weights('model.h5')"
   ]
  },
  {
   "cell_type": "markdown",
   "metadata": {},
   "source": [
    "# Open webcam using openCV"
   ]
  },
  {
   "cell_type": "code",
   "execution_count": 16,
   "metadata": {},
   "outputs": [],
   "source": [
    "# start the webcam feed\n",
    "emotion_dict = {0: \"Angry\", 1: \"Disgusted\", 2: \"Fearful\", 3: \"Happy\", 4: \"Natural\", 5: \"Sad\", 6: \"Surprised\"}\n",
    "\n",
    "#cap = cv2.VideoCapture('facial_exp.mkv')\n",
    "cap = cv2.VideoCapture(0)\n",
    "while True:\n",
    "    # Find haar cascade to draw bounding box around face\n",
    "    ret, frame = cap.read()\n",
    "    #frame = cv2.flip(frame, 1)\n",
    "    if not ret:\n",
    "        break\n",
    "    bounding_box = cv2.CascadeClassifier('haarcascade_frontalface_default.xml')\n",
    "    gray_frame = cv2.cvtColor(frame, cv2.COLOR_BGR2GRAY)\n",
    "    num_faces = bounding_box.detectMultiScale(gray_frame,scaleFactor=1.3, minNeighbors=5)\n",
    "\n",
    "    for (x, y, w, h) in num_faces:\n",
    "        cv2.rectangle(frame, (x, y-50), (x+w, y+h+10), (255, 0, 0), 2)\n",
    "        roi_gray_frame = gray_frame[y:y + h, x:x + w]\n",
    "        cropped_img = np.expand_dims(np.expand_dims(cv2.resize(roi_gray_frame, (48, 48)), -1), 0)\n",
    "        emotion_prediction = emotion_model.predict(cropped_img)\n",
    "        maxindex = int(np.argmax(emotion_prediction))\n",
    "        cv2.putText(frame, emotion_dict[maxindex], (x+20, y-60), cv2.FONT_HERSHEY_SIMPLEX, 1, (255, 255, 255), 2, cv2.LINE_AA)\n",
    "\n",
    "    cv2.imshow('Video', cv2.resize(frame,(600,500),interpolation = cv2.INTER_CUBIC))\n",
    "    if cv2.waitKey(1) & 0xFF == ord('q'):\n",
    "        break\n",
    "\n",
    "cap.release()\n",
    "cv2.destroyAllWindows()"
   ]
  }
 ],
 "metadata": {
  "kernelspec": {
   "display_name": "Python 3",
   "language": "python",
   "name": "python3"
  },
  "language_info": {
   "codemirror_mode": {
    "name": "ipython",
    "version": 3
   },
   "file_extension": ".py",
   "mimetype": "text/x-python",
   "name": "python",
   "nbconvert_exporter": "python",
   "pygments_lexer": "ipython3",
   "version": "3.8.8"
  }
 },
 "nbformat": 4,
 "nbformat_minor": 4
}
